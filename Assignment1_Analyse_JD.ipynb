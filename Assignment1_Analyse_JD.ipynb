{
  "cells": [
    {
      "cell_type": "markdown",
      "metadata": {
        "id": "GR3hB0ZJQSpj"
      },
      "source": [
        "# Job Description Processor\n",
        "\n",
        "This notebook showcases a program that helps recruiters in processing and extracting vital information from a job description. It uses the GPT-3.5-turbo model to extract details such as years of experience, CTC, notice period, educational requirements, technical skills, soft skills, and more.\n",
        "\n",
        "# Learning Objective:\n",
        "1. Understand the challenges in extracting structured information from unstructured job descriptions.\n",
        "2. Iterate and optimize GPT-3.5-turbo model prompts to improve the quality and format of extracted information.\n",
        "3. Transform model outputs into a JSON format, ensuring consistency and usability for downstream applications.\n",
        "\n",
        "\n"
      ]
    },
    {
      "cell_type": "markdown",
      "source": [
        "Upload the .env file to the directory `/content/` which contains the \"OPENAI_API_KEY\""
      ],
      "metadata": {
        "id": "pyu1Ye6sdSLy"
      }
    },
    {
      "cell_type": "code",
      "execution_count": 3,
      "metadata": {
        "id": "plnlXJ4D06Wc",
        "colab": {
          "base_uri": "https://localhost:8080/"
        },
        "outputId": "71d35d27-daaa-4258-f181-81431540dc0a"
      },
      "outputs": [
        {
          "output_type": "stream",
          "name": "stdout",
          "text": [
            "Collecting openai\n",
            "  Downloading openai-0.28.0-py3-none-any.whl (76 kB)\n",
            "\u001b[?25l     \u001b[90m━━━━━━━━━━━━━━━━━━━━━━━━━━━━━━━━━━━━━━━━\u001b[0m \u001b[32m0.0/76.5 kB\u001b[0m \u001b[31m?\u001b[0m eta \u001b[36m-:--:--\u001b[0m\r\u001b[2K     \u001b[90m━━━━━━━━━━━━━━━━━━━━━━━━━━━━━━━━━━━━━━━━\u001b[0m \u001b[32m76.5/76.5 kB\u001b[0m \u001b[31m2.7 MB/s\u001b[0m eta \u001b[36m0:00:00\u001b[0m\n",
            "\u001b[?25hRequirement already satisfied: requests>=2.20 in /usr/local/lib/python3.10/dist-packages (from openai) (2.31.0)\n",
            "Requirement already satisfied: tqdm in /usr/local/lib/python3.10/dist-packages (from openai) (4.66.1)\n",
            "Requirement already satisfied: aiohttp in /usr/local/lib/python3.10/dist-packages (from openai) (3.8.5)\n",
            "Requirement already satisfied: charset-normalizer<4,>=2 in /usr/local/lib/python3.10/dist-packages (from requests>=2.20->openai) (3.2.0)\n",
            "Requirement already satisfied: idna<4,>=2.5 in /usr/local/lib/python3.10/dist-packages (from requests>=2.20->openai) (3.4)\n",
            "Requirement already satisfied: urllib3<3,>=1.21.1 in /usr/local/lib/python3.10/dist-packages (from requests>=2.20->openai) (2.0.4)\n",
            "Requirement already satisfied: certifi>=2017.4.17 in /usr/local/lib/python3.10/dist-packages (from requests>=2.20->openai) (2023.7.22)\n",
            "Requirement already satisfied: attrs>=17.3.0 in /usr/local/lib/python3.10/dist-packages (from aiohttp->openai) (23.1.0)\n",
            "Requirement already satisfied: multidict<7.0,>=4.5 in /usr/local/lib/python3.10/dist-packages (from aiohttp->openai) (6.0.4)\n",
            "Requirement already satisfied: async-timeout<5.0,>=4.0.0a3 in /usr/local/lib/python3.10/dist-packages (from aiohttp->openai) (4.0.3)\n",
            "Requirement already satisfied: yarl<2.0,>=1.0 in /usr/local/lib/python3.10/dist-packages (from aiohttp->openai) (1.9.2)\n",
            "Requirement already satisfied: frozenlist>=1.1.1 in /usr/local/lib/python3.10/dist-packages (from aiohttp->openai) (1.4.0)\n",
            "Requirement already satisfied: aiosignal>=1.1.2 in /usr/local/lib/python3.10/dist-packages (from aiohttp->openai) (1.3.1)\n",
            "Installing collected packages: openai\n",
            "Successfully installed openai-0.28.0\n"
          ]
        }
      ],
      "source": [
        "# Libraries Installation\n",
        "!pip install openai\n",
        "# Required Libraries\n",
        "import openai\n",
        "import json\n",
        "import os\n",
        "from collections import OrderedDict\n"
      ]
    },
    {
      "cell_type": "markdown",
      "metadata": {
        "id": "NNlDscmRX--1"
      },
      "source": [
        "We set up our environment to use OpenAI's API for extracting information from Job Descriptions (JD). We'll use Python as our primary language and leverage the OpenAI library to interact with OpenAI's services\n"
      ]
    },
    {
      "cell_type": "markdown",
      "source": [
        "Read the \"OPENAI_API_KEY\" from the .env file"
      ],
      "metadata": {
        "id": "z4044lWbZVAp"
      }
    },
    {
      "cell_type": "code",
      "execution_count": 4,
      "metadata": {
        "id": "7PyU_wIbTXm5"
      },
      "outputs": [],
      "source": [
        "# Export your API Key to environment variable\n",
        "# Upload the .env file to the directory \"/content/\"\n",
        "!pip install python-dotenv\n",
        "from dotenv import load_dotenv\n",
        "load_dotenv()"
      ]
    },
    {
      "cell_type": "code",
      "source": [
        "import openai\n",
        "# Retrieve the API key from environment variable\n",
        "openai_api_key =  os.getenv(\"OPENAI_API_KEY\")\n",
        "\n",
        "# Set the API key for OpenAI\n",
        "openai.api_key = openai_api_key"
      ],
      "metadata": {
        "id": "yoHjYQisapIM"
      },
      "execution_count": 5,
      "outputs": []
    },
    {
      "cell_type": "markdown",
      "metadata": {
        "id": "x84E3XD2hZTN"
      },
      "source": [
        "The following class, `RequirementProcessor`, is designed to process job descriptions (JDs) and extract relevant information. Upon initialization, it specifies the GPT-3.5 model (with a size of 16k tokens) to be used. The primary method, `process_requirement`, takes in a job description and a system prompt. It then crafts a structured message for the OpenAI API, setting the role as either `system` or `user` and providing the corresponding content. The model's response is generated with specific parameters like `temperature` and `max_tokens` to influence its randomness and length. The method ultimately returns the stripped content from the model's response, which is the processed information extracted from the JD."
      ]
    },
    {
      "cell_type": "code",
      "execution_count": 6,
      "metadata": {
        "id": "JUDE1JSKDmEX"
      },
      "outputs": [],
      "source": [
        "# Defining a class called RequirementProcessor\n",
        "class RequirementProcessor:\n",
        "    def __init__(self):\n",
        "        # During initialization, we set the model to a specific GPT model name.\n",
        "        self.model = \"gpt-3.5-turbo-16k\"\n",
        "\n",
        "    def process_requirement(self, requirement_description, system_prompt):\n",
        "        \"\"\"\n",
        "        Generates a response based on the given requirement description and system prompt using the OpenAI API.\n",
        "\n",
        "        Parameters:\n",
        "        - requirement_description (str): The description of the requirement.\n",
        "        - system_prompt (str): The initial system prompt for context.\n",
        "\n",
        "        Returns:\n",
        "        - str: The generated text based on the provided input.\n",
        "        \"\"\"\n",
        "\n",
        "        # Create a list of messages to send to the OpenAI API.\n",
        "        # The first message is from the system for context and the second is the user's requirement.\n",
        "        messages = [\n",
        "            {\"role\": \"system\", \"content\": system_prompt},\n",
        "            {\"role\": \"user\", \"content\": requirement_description},\n",
        "        ]\n",
        "\n",
        "        # Set the temperature (affects randomness of output) and maximum token limit for the response.\n",
        "        temperature = 1\n",
        "        max_tokens = 2000\n",
        "\n",
        "        # Call the OpenAI API's ChatCompletion method with the defined model and parameters.\n",
        "        response = openai.ChatCompletion.create(\n",
        "            model=self.model,\n",
        "            messages=messages,\n",
        "            temperature=temperature,\n",
        "            max_tokens=max_tokens\n",
        "        )\n",
        "\n",
        "        # Extract and strip the generated content from the API response.\n",
        "        generated_text = response[\"choices\"][0].message[\"content\"].strip()\n",
        "\n",
        "        # Return the processed/generated text.\n",
        "        return generated_text\n"
      ]
    },
    {
      "cell_type": "markdown",
      "source": [
        "#### **Job Description (JD)**\n",
        "#### **Client**: BIGVISION AI\n",
        "#### **Website**: https://bigvision.ai/\n",
        "\n",
        "#### **Position Name**: Software Engineer - Computer Vision\n",
        "#### **Location**: San Francisco\n",
        "#### **Experience Required**: Intern to 3 Years (0-3) years\n",
        "#### **Salary Budget(Min - Max)**:  (100k-150k) dollars p.a\n",
        "\n",
        "#### **Description**:\n",
        "Big Vision AI is a renowned consulting firm specializing in Computer Vision, Deep Learning, Machine Learning, and Artificial Intelligence (AI) research and development. Our areas of expertise span:\n",
        "\n",
        "1. Image recognition\n",
        "2. Object detection and tracking\n",
        "3. Image segmentation\n",
        "4. Human body pose estimation\n",
        "5. Optical character recognition (OCR)\n",
        "6. Face detection and recognition\n",
        "7. Augmented reality\n",
        "8. 3D reconstruction\n",
        "9. Medical image processing, and many more.\n",
        "10. With a strong foundation in libraries like OpenCV, Dlib, as well as frameworks like PyTorch and TensorFlow/Keras, we not only focus on training AI models but also emphasize their performance optimization for deployment on diverse platforms, including the cloud or edge devices such as Raspberry Pi.\n",
        "\n",
        "Role Responsibilities:\n",
        "\n",
        "1. Engage in both research and the productization of new computer vision/ML features.\n",
        "2. Continuously enhance and optimize existing software modules.\n",
        "\n",
        "Key Skills Required:\n",
        "\n",
        "1. Significant experience in the image/video domain.\n",
        "2. Proficiency in writing production-quality Python code.\n",
        "3. Hands-on experience with OpenCV for developing Computer Vision applications.\n",
        "4. Acquaintance with C++ and MATLAB is a plus.\n",
        "5. Experience with prevalent learning frameworks, including TensorFlow, PyTorch, and CAFFE.\n",
        "6. A strong understanding of Algorithms and Data-structures.\n",
        "7. Familiarity with code optimization techniques for memory and performance utilizing profiling tools, is an advantage.\n",
        "\n",
        "Other Desirable Qualities:\n",
        "\n",
        "1. Effective communication skills.\n",
        "2. Ability to be an efficient team player.\n",
        "3. Capability to work independently on assigned tasks.\n",
        "4. Critical thinking abilities.\n",
        "5. Zeal for acquiring and implementing new skills.\n",
        "\n",
        "#### **Must Have Skills**:\n",
        "\n",
        "TensorFlow, Keras, PyTorch, Computer Vision\n",
        "\n"
      ],
      "metadata": {
        "id": "00qfGcuvZ0Kh"
      }
    },
    {
      "cell_type": "markdown",
      "source": [
        "The provided code snippet prompts the user for various job description (JD) details, starting with the position name. The user is then asked to provide a series of descriptions related to the job, ending the input series with the keyword 'STOP'. Next, specific information about the client, experience requirements, salary budget, job location, notice period, and mandatory skills is gathered. All the collected information is then formatted into a structured `requirement_description` string, which consolidates the JD for further processing. After gathering all details, a confirmation message is displayed, indicating the successful extraction of the JD information."
      ],
      "metadata": {
        "id": "KQR8UzvvdFo_"
      }
    },
    {
      "cell_type": "code",
      "execution_count": 7,
      "metadata": {
        "colab": {
          "base_uri": "https://localhost:8080/"
        },
        "id": "5xkfEpPDDmJC",
        "outputId": "3e99ad26-7944-4aa4-d29b-2e7283265734"
      },
      "outputs": [
        {
          "name": "stdout",
          "output_type": "stream",
          "text": [
            "What is the name of the position? Software Engineer - Computer Vision\n",
            "[Analyse JD] Important descriptions for the job (Enter 'STOP' when you are done):\n",
            "Big Vision AI is a renowned consulting firm specializing in Computer Vision, Deep Learning, Machine Learning, and Artificial Intelligence (AI) research and development. Our areas of expertise span:  Image recognition Object detection and tracking Image segmentation Human body pose estimation Optical character recognition (OCR) Face detection and recognition Augmented reality 3D reconstruction Medical image processing, and many more. With a strong foundation in libraries like OpenCV, Dlib, as well as frameworks like PyTorch and TensorFlow/Keras, we not only focus on training AI models but also emphasize their performance optimization for deployment on diverse platforms, including the cloud or edge devices such as Raspberry Pi. Role Responsibilities:  Engage in both research and the productization of new computer vision/ML features. Continuously enhance and optimize existing software modules. Key Skills Required:  Significant experience in the image/video domain. Proficiency in writing production-quality Python code. Hands-on experience with OpenCV for developing Computer Vision applications. Acquaintance with C++ and MATLAB is a plus. Experience with prevalent learning frameworks, including TensorFlow, PyTorch, and CAFFE. A strong understanding of Algorithms and Data-structures. Familiarity with code optimization techniques for memory and performance utilizing profiling tools, is an advantage. Other Desirable Qualities:  Effective communication skills. Ability to be an efficient team player. Capability to work independently on assigned tasks. Critical thinking abilities. Zeal for acquiring and implementing new skills.\n",
            "stop\n",
            "[Analyse JD] Description uploaded\n",
            "Name of the client: BIGVISION AI\n",
            "Minimum experience in years: 0\n",
            "Maximum experience in years: 3\n",
            "Minimum salary budget (p.a): 100k dollars\n",
            "Maximum salary budget (p.a): 150k dollars\n",
            "Location information: San Francisco\n",
            "Notice period: 1 month\n",
            "Enter the mandatory or must have skills for the job requirement: TensorFlow, Keras, PyTorch, Computer Vision\n"
          ]
        }
      ],
      "source": [
        "processor = RequirementProcessor()\n",
        "position_name = input(\"What is the name of the position? \")\n",
        "\n",
        "print(\"[Analyse JD] Important descriptions for the job (Enter 'STOP' when you are done):\")\n",
        "desc_content = []\n",
        "while True:\n",
        "    line = input()\n",
        "    if line.strip() == 'STOP' or line.strip() == 'stop':\n",
        "        break\n",
        "    desc_content.append(line)\n",
        "desc_content = '\\n'.join(desc_content)\n",
        "print(\"[Analyse JD] Description uploaded\")\n",
        "\n",
        "client_name = input(\"Name of the client: \")\n",
        "min_exp = input(\"Minimum experience in years: \")\n",
        "max_exp = input(\"Maximum experience in years: \")\n",
        "min_budget = input(\"Minimum salary budget (p.a): \")\n",
        "max_budget = input(\"Maximum salary budget (p.a): \")\n",
        "location_info = input(\"Location information: \")\n",
        "notice_period = input(\"Notice period: \")\n",
        "mandatory_skills = input(\"Enter the mandatory or must have skills for the job requirement: \")\n",
        "requirement_description = f'''Position name: {position_name}, description of the job and requirements: {desc_content}, Name of the client: {client_name}, \\\n",
        "Minimum experience required: {min_exp}, Maximum experience required: {max_exp}, Minimum budget for the salart p.a: {min_budget}, Maximum budget for the salart p.a: {max_budget}\\\n",
        "Location of the job: {location_info}, Notice period: {notice_period}, Mandatory or Must have skills required for this job: {mandatory_skills}'''"
      ]
    },
    {
      "cell_type": "markdown",
      "metadata": {
        "id": "9g6vJ5AXOc6E"
      },
      "source": [
        "# Output:\n",
        "\n",
        "\n",
        "```\n",
        "What is the name of the position? Software Engineer - Computer Vision\n",
        "[Analyse JD] Important descriptions for the job (Enter 'STOP' when you are done):\n",
        "Big Vision AI is a renowned consulting firm specializing in Computer Vision, Deep Learning, Machine Learning, and Artificial Intelligence (AI) research and development. Our areas of expertise span:  Image recognition Object detection and tracking Image segmentation Human body pose estimation Optical character recognition (OCR) Face detection and recognition Augmented reality 3D reconstruction Medical image processing, and many more. With a strong foundation in libraries like OpenCV, Dlib, as well as frameworks like PyTorch and TensorFlow/Keras, we not only focus on training AI models but also emphasize their performance optimization for deployment on diverse platforms, including the cloud or edge devices such as Raspberry Pi. Role Responsibilities:  Engage in both research and the productization of new computer vision/ML features. Continuously enhance and optimize existing software modules. Key Skills Required:  Significant experience in the image/video domain. Proficiency in writing production-quality Python code. Hands-on experience with OpenCV for developing Computer Vision applications. Acquaintance with C++ and MATLAB is a plus. Experience with prevalent learning frameworks, including TensorFlow, PyTorch, and CAFFE. A strong understanding of Algorithms and Data-structures. Familiarity with code optimization techniques for memory and performance utilizing profiling tools, is an advantage. Other Desirable Qualities:  Effective communication skills. Ability to be an efficient team player. Capability to work independently on assigned tasks. Critical thinking abilities. Zeal for acquiring and implementing new skills.\n",
        "stop\n",
        "[Analyse JD] Description uploaded\n",
        "Name of the client: BIGVISION AI\n",
        "Minimum experience in years: 0\n",
        "Maximum experience in years: 3\n",
        "Minimum salary budget (p.a): 100k dollars\n",
        "Maximum salary budget (p.a): 150k dollars\n",
        "Location information: San Francisco\n",
        "Notice period: 1 month\n",
        "Enter the mandatory or must have skills for the job requirement: TensorFlow, Keras, PyTorch, Computer Vision\n",
        "```\n",
        "\n"
      ]
    },
    {
      "cell_type": "markdown",
      "metadata": {
        "id": "6CXIlV8VSKxs"
      },
      "source": [
        "#**Iterative refinement of the model prompt for optimal JD extraction:**"
      ]
    },
    {
      "cell_type": "code",
      "execution_count": 9,
      "metadata": {
        "id": "bVvxhVTRDmNu",
        "colab": {
          "base_uri": "https://localhost:8080/"
        },
        "outputId": "95371f1c-81b0-4891-9ab7-a9405f9b72ba"
      },
      "outputs": [
        {
          "output_type": "stream",
          "name": "stdout",
          "text": [
            "extracted information Year of Experience: 0-3 years\n",
            "CTC: $100k-$150k per year\n",
            "Notice Period: 1 month\n",
            "Educational Requirement: None mentioned\n",
            "\n",
            "Technical Skills Needed:\n",
            "- Significant experience in the image/video domain\n",
            "- Proficiency in writing production-quality Python code\n",
            "- Hands-on experience with OpenCV for developing Computer Vision applications\n",
            "- Acquaintance with C++ and MATLAB is a plus\n",
            "- Experience with prevalent learning frameworks, including TensorFlow, PyTorch, and CAFFE\n",
            "- Strong understanding of Algorithms and Data-structures\n",
            "- Familiarity with code optimization techniques for memory and performance utilizing profiling tools\n",
            "\n",
            "Other Skills:\n",
            "- Effective communication skills\n",
            "- Ability to be an efficient team player\n",
            "- Capability to work independently on assigned tasks\n",
            "- Critical thinking abilities\n",
            "- Zeal for acquiring and implementing new skills\n",
            "\n",
            "Must Have Skills:\n",
            "- TensorFlow, Keras, PyTorch, Computer Vision\n",
            "\n",
            "Location: San Francisco\n"
          ]
        }
      ],
      "source": [
        "system_prompt_v1 = '''Give information about year of experience, CTC, notice period and educational requirement if available in the description. \\\n",
        "If not mark it as none. Also, summarize the technical skills needed.\\\n",
        "Summarize other needed skills like soft skills. \\\n",
        "Also, add must have skills - these are the most important requirements from the job description, clearly mentioned as must have skills. \\\n",
        "location is the place where the person will be posted. \\\n",
        "'''\n",
        "\n",
        "extracted_info = processor.process_requirement(requirement_description, system_prompt_v1)\n",
        "print(\"extracted information\", extracted_info)"
      ]
    },
    {
      "cell_type": "markdown",
      "metadata": {
        "id": "TR8K24oHSOPT"
      },
      "source": [
        "## *Begin with a simple extraction. Check basic details like years of experience, CTC, and notice period*.\n",
        "## *As a starting point, we need to establish the fundamental requirements without overloading the model.*\n",
        "## Prompt Version 1:\n",
        "\n",
        "system_prompt_v1 = '''Give information about year of experience, CTC, notice period and educational requirement if available in the description. If not mark it as none. Also, summarize the technical skills needed. Summarize other needed skills like soft skills. Also, add must have skills - these are the most important requirements from the job description, clearly mentioned as must have skills. location is the place where the person will be posted.'''\n",
        "\n",
        "\n",
        " ## Understanding the prompt:\n",
        "1. **Year of Experience**:\n",
        "    - **Explanation**: This is asking for the number of years of professional experience that is required or preferred for the job position. It is common to find phrases such as \"2-3 years of experience in XYZ\" in job descriptions. We are instructing the model to locate such information from the job description and specify it. If the information is not available, mark it as \"none\".\n",
        "\n",
        "2. **CTC (Cost to Company)**:\n",
        "    - **Explanation**: This refers to the total salary package offered by the company which includes the gross salary along with other benefits and bonuses. In the job description, it might be mentioned explicitly as the \"CTC\" or might be referred to in terms such as \"salary package\" or \"compensation\". If such details are available, list them; otherwise, indicate it as \"none\".\n",
        "\n",
        "3. **Notice Period**:\n",
        "    - **Explanation**: This is the period an employee must serve from the time they announce their resignation until their last working day. It might be mentioned in terms such as \"available to start in X weeks/months\" or \"notice period of X months\". If this information is in the description, note it down; if not, mark it as \"none\".\n",
        "\n",
        "4. **Educational Requirement**:\n",
        "    - **Explanation**: This pertains to the necessary educational background that the job demands. It may involve having a specific degree, diploma, or certification. If the information is available in the description, provide details; otherwise, mark it as \"none\".\n",
        "\n",
        "5. **Technical Skills**:\n",
        "    - **Explanation**: These are the skills directly related to the job’s core functions, e.g., programming languages, machinery operation, etc. Summarize the list of technical skills mentioned in the job description into a concise list or description.\n",
        "\n",
        "6. **Soft Skills**:\n",
        "    - **Explanation**: Soft skills are non-technical skills that relate to how you work. They include skills such as communication, critical thinking, and leadership. Summarize any mentioned soft skills required for the job from the job description into a concise list or description.\n",
        "\n",
        "7. **Must-Have Skills**:\n",
        "    - **Explanation**: These are the non-negotiable skills that are critical for performing the job successfully. They are clearly labeled as \"must-have\" in the job description. List down all such skills mentioned in the job description.\n",
        "\n",
        "8. **Location**:\n",
        "    - **Explanation**: This is the geographical location where the job role will be based. Look for details regarding the job location in the job description and mention it. If it is not specified, you should mark it as \"none\".\n",
        "\n",
        "In summary, your prompt asks to extract and summarize essential details from a job description such as experience required, compensation details, notice period, educational prerequisites, a summary of necessary technical and soft skills, the skills that are absolutely necessary to have, and the job location. If any of this information is missing in the job description, it should be indicated as \"none\". This detailed extraction will help in getting a structured understanding of the job requirements as per the description.\n",
        "\n",
        "\n",
        "\n"
      ]
    },
    {
      "cell_type": "markdown",
      "source": [
        "**Note:**\n",
        "The output generated by the aforementioned cell is inconsistent, yielding varied results with each execution. To address this, we need to modify the output format, ensuring uniformity and predictability each time the cell is run."
      ],
      "metadata": {
        "id": "P6SkqqFdWzyJ"
      }
    },
    {
      "cell_type": "markdown",
      "metadata": {
        "id": "7BQSISG0NCYM"
      },
      "source": [
        "# Output:\n",
        "\n",
        "\n",
        "```\n",
        "extracted information Year of Experience: 0-3 years\n",
        "CTC: $100k-$150k per year\n",
        "Notice Period: 1 month\n",
        "Educational Requirement: None mentioned\n",
        "\n",
        "Technical Skills Needed:\n",
        "- Significant experience in the image/video domain\n",
        "- Proficiency in writing production-quality Python code\n",
        "- Hands-on experience with OpenCV for developing Computer Vision applications\n",
        "- Acquaintance with C++ and MATLAB is a plus\n",
        "- Experience with prevalent learning frameworks, including TensorFlow, PyTorch, and CAFFE\n",
        "- Strong understanding of Algorithms and Data-structures\n",
        "- Familiarity with code optimization techniques for memory and performance utilizing profiling tools\n",
        "\n",
        "Other Skills:\n",
        "- Effective communication skills\n",
        "- Ability to be an efficient team player\n",
        "- Capability to work independently on assigned tasks\n",
        "- Critical thinking abilities\n",
        "- Zeal for acquiring and implementing new skills\n",
        "\n",
        "Must Have Skills:\n",
        "- TensorFlow, Keras, PyTorch, Computer Vision\n",
        "\n",
        "Location: San Francisco\n",
        "```\n",
        "\n"
      ]
    },
    {
      "cell_type": "markdown",
      "metadata": {
        "id": "FKE_TSgUSXdM"
      },
      "source": [
        "# *Convert the extracted information into a structured JSON format for easy data manipulation.*\n",
        "# *The first output may be in plain text. Structured data in JSON format will be more useful for further data processing tasks.*\n",
        "\n",
        "# Prompt Version 2:\n",
        "system_prompt_v2 = '''Give information about year of experience, CTC, notice period and educational requirement if available in the description. \\\n",
        "    If not mark it as none. Also, summarize the technical skills needed.\\\n",
        "    Summarize other needed skills like soft skills. \\\n",
        "    Also, add must have skills - these are the most important requirements from the job description, clearly mentioned as must have skills. \\\n",
        "    location is the place where the person will be posted. The output must be in JSON.\\\n",
        "    '''\n",
        "\n",
        "## Understanding the Prompt:\n",
        "Absolutely, I would be happy to help explain how to fulfill this prompt, which asks to extract certain details from a job description and present them in a JSON format:\n",
        "\n",
        "1. **Year of Experience**:\n",
        "    - **Explanation**: You need to extract details regarding the required or preferred years of professional experience mentioned in the job description. Find phrases or sentences that specify the number of years of experience needed. If such information is not available, mark this field as \"none\".\n",
        "\n",
        "2. **CTC (Cost to Company)**:\n",
        "    - **Explanation**: CTC refers to the total annual salary package that an employee is offered, including all the monetary benefits. Extract details from the job description regarding the salary package or CTC. If it is not mentioned, denote this category as \"none\".\n",
        "\n",
        "3. **Notice Period**:\n",
        "    - **Explanation**: The notice period is the duration an employee is expected to serve before officially leaving the job, following their resignation. Locate information regarding the notice period in the job description, if mentioned. If not, label it as \"none\".\n",
        "\n",
        "4. **Educational Requirement**:\n",
        "    - **Explanation**: Here you need to find and mention the minimum educational qualifications required for the job as stated in the description. This might include specific degrees, diplomas, or certifications. If not found, write \"none\".\n",
        "\n",
        "5. **Technical Skills**:\n",
        "    - **Explanation**: Identify and summarize the list of technical skills mentioned in the job description. Technical skills are skills required to perform the specific tasks related to the job, often involving the use of specialized tools or knowledge. Summarize these into a concise list.\n",
        "\n",
        "6. **Soft Skills**:\n",
        "    - **Explanation**: Soft skills refer to personal attributes and interpersonal skills that facilitate good communication and cooperation with others. Summarize any mentioned soft skills required for the job from the job description.\n",
        "\n",
        "7. **Must-Have Skills**:\n",
        "    - **Explanation**: These are skills that are emphasized as being essential for the role in the job description, often mentioned using phrases such as \"must-have\", \"required\", \"essential\", etc. Identify and list all such skills highlighted in the job description.\n",
        "\n",
        "8. **Location**:\n",
        "    - **Explanation**: This refers to the geographical place where the job role is based or where the employee will be posted. Find the details about the job location in the job description and mention it in the output.\n",
        "\n",
        "9. **Output in JSON**:\n",
        "    - **Explanation**: JSON (JavaScript Object Notation) is a format for structuring data. It is primarily used to transmit data between a server and web applications as a way to encode data structures. In this case, the extracted details must be presented in a structured JSON format. It would look something like:\n",
        "      ```json\n",
        "      {\n",
        "          \"Experience Required\": \"3-5 years\",\n",
        "          \"CTC\": \"none\",\n",
        "          \"Notice Period\": \"2 months\",\n",
        "          \"Educational Requirement\": \"Bachelor's degree in Computer Science\",\n",
        "          \"Technical Skills\": \"Java, Python, SQL\",\n",
        "          \"Soft Skills\": \"Communication, Teamwork\",\n",
        "          \"Must Have Skills\": \"Java, Python\",\n",
        "          \"Location\": \"San Francisco, CA\"\n",
        "      }\n",
        "      ```\n",
        "   \n",
        "Using this prompt, one can extract the necessary details from the job description and represent them in the required JSON format. It facilitates a structured and organized way to present the details extracted from the job descriptions.\n"
      ]
    },
    {
      "cell_type": "code",
      "execution_count": 10,
      "metadata": {
        "id": "7-q1rXobGoBR",
        "colab": {
          "base_uri": "https://localhost:8080/"
        },
        "outputId": "332423a7-a084-4e03-c72a-c2115bad680e"
      },
      "outputs": [
        {
          "output_type": "stream",
          "name": "stdout",
          "text": [
            "extracted information { \n",
            "  \"Position\": \"Software Engineer - Computer Vision\",\n",
            "  \"Description\": \"Big Vision AI is a renowned consulting firm specializing in Computer Vision, Deep Learning, Machine Learning, and Artificial Intelligence (AI) research and development. Our areas of expertise span: Image recognition, Object detection and tracking, Image segmentation, Human body pose estimation, Optical character recognition (OCR), Face detection and recognition, Augmented reality, 3D reconstruction, Medical image processing, and many more. With a strong foundation in libraries like OpenCV, Dlib, as well as frameworks like PyTorch and TensorFlow/Keras, we not only focus on training AI models but also emphasize their performance optimization for deployment on diverse platforms, including the cloud or edge devices such as Raspberry Pi.\",\n",
            "  \"Requirements\": [\n",
            "    \"Significant experience in the image/video domain.\",\n",
            "    \"Proficiency in writing production-quality Python code.\",\n",
            "    \"Hands-on experience with OpenCV for developing Computer Vision applications.\",\n",
            "    \"Acquaintance with C++ and MATLAB is a plus.\",\n",
            "    \"Experience with prevalent learning frameworks, including TensorFlow, PyTorch, and CAFFE.\",\n",
            "    \"A strong understanding of Algorithms and Data-structures.\",\n",
            "    \"Familiarity with code optimization techniques for memory and performance utilizing profiling tools is an advantage.\"\n",
            "  ],\n",
            "  \"Other Skills\": [\n",
            "    \"Effective communication skills.\",\n",
            "    \"Ability to be an efficient team player.\",\n",
            "    \"Capability to work independently on assigned tasks.\",\n",
            "    \"Critical thinking abilities.\",\n",
            "    \"Zeal for acquiring and implementing new skills.\"\n",
            "  ],\n",
            "  \"Must Have Skills\": [\n",
            "    \"TensorFlow\",\n",
            "    \"Keras\",\n",
            "    \"PyTorch\",\n",
            "    \"Computer Vision\"\n",
            "  ],\n",
            "  \"Client\": \"BIGVISION AI\",\n",
            "  \"Minimum Experience\": \"0\",\n",
            "  \"Maximum Experience\": \"3\",\n",
            "  \"Minimum Salary\": \"100k dollars\",\n",
            "  \"Maximum Salary\": \"150k dollars\",\n",
            "  \"Location\": \"San Francisco\",\n",
            "  \"Notice Period\": \"1 month\"\n",
            "}\n"
          ]
        }
      ],
      "source": [
        "system_prompt_v2 = '''Give information about year of experience, CTC, notice period and educational requirement if available in the description. \\\n",
        "    If not mark it as none. Also, summarize the technical skills needed.\\\n",
        "    Summarize other needed skills like soft skills. \\\n",
        "    Also, add must have skills - these are the most important requirements from the job description, clearly mentioned as must have skills. \\\n",
        "    location is the place where the person will be posted. The output must be in JSON.\\\n",
        "    '''\n",
        "extracted_info = processor.process_requirement(requirement_description, system_prompt_v2)\n",
        "print(\"extracted information\", extracted_info)"
      ]
    },
    {
      "cell_type": "markdown",
      "source": [
        "**Note:** In the above case, the keys in the JSON output keeps on changing on multiple runs, that is why the next task is to stabilise the keys."
      ],
      "metadata": {
        "id": "MpECpmluI0Kf"
      }
    },
    {
      "cell_type": "markdown",
      "metadata": {
        "id": "aJfBwCMZNRWL"
      },
      "source": [
        "# Output:\n",
        "\n",
        "\n",
        "```\n",
        "extracted information {\n",
        "  \"Position\": \"Software Engineer - Computer Vision\",\n",
        "  \"Description\": \"Big Vision AI is a renowned consulting firm specializing in Computer Vision, Deep Learning, Machine Learning, and Artificial Intelligence (AI) research and development. Our areas of expertise span: Image recognition, Object detection and tracking, Image segmentation, Human body pose estimation, Optical character recognition (OCR), Face detection and recognition, Augmented reality, 3D reconstruction, Medical image processing, and many more. With a strong foundation in libraries like OpenCV, Dlib, as well as frameworks like PyTorch and TensorFlow/Keras, we not only focus on training AI models but also emphasize their performance optimization for deployment on diverse platforms, including the cloud or edge devices such as Raspberry Pi.\",\n",
        "  \"Requirements\": [\n",
        "    \"Significant experience in the image/video domain.\",\n",
        "    \"Proficiency in writing production-quality Python code.\",\n",
        "    \"Hands-on experience with OpenCV for developing Computer Vision applications.\",\n",
        "    \"Acquaintance with C++ and MATLAB is a plus.\",\n",
        "    \"Experience with prevalent learning frameworks, including TensorFlow, PyTorch, and CAFFE.\",\n",
        "    \"A strong understanding of Algorithms and Data-structures.\",\n",
        "    \"Familiarity with code optimization techniques for memory and performance utilizing profiling tools is an advantage.\"\n",
        "  ],\n",
        "  \"Other Skills\": [\n",
        "    \"Effective communication skills.\",\n",
        "    \"Ability to be an efficient team player.\",\n",
        "    \"Capability to work independently on assigned tasks.\",\n",
        "    \"Critical thinking abilities.\",\n",
        "    \"Zeal for acquiring and implementing new skills.\"\n",
        "  ],\n",
        "  \"Must Have Skills\": [\n",
        "    \"TensorFlow\",\n",
        "    \"Keras\",\n",
        "    \"PyTorch\",\n",
        "    \"Computer Vision\"\n",
        "  ],\n",
        "  \"Client\": \"BIGVISION AI\",\n",
        "  \"Minimum Experience\": \"0\",\n",
        "  \"Maximum Experience\": \"3\",\n",
        "  \"Minimum Salary\": \"100k dollars\",\n",
        "  \"Maximum Salary\": \"150k dollars\",\n",
        "  \"Location\": \"San Francisco\",\n",
        "  \"Notice Period\": \"1 month\"\n",
        "}\n",
        "```\n",
        "\n"
      ]
    },
    {
      "cell_type": "markdown",
      "metadata": {
        "id": "fiWokE6Qd8tV"
      },
      "source": [
        "# *Ensure the JSON keys are consistent across different runs to make the output predictable.*\n",
        "# *The previous prompt might have inconsistent key naming. Consistent keys help in automated parsing without surprises.*\n",
        "# Prompt Version 3:\n",
        "system_prompt_v3 = '''give information about \"year_of_experience\", \"CTC\", \"notice_period\" and \"educational_requirement\" if available in the description. \\\n",
        "If not mark it as none. Also, summarize the technical skills needed in the \"technical_summary\" field.\\\n",
        "Summarize other needed skills like soft skills needed in the \"soft_skills_summary\" field. \\\n",
        "Also, add \"must_have_skills\" - these are the most important requirements from the job description, clearly mentioned as must have skills. \\\n",
        "\"location\" is the place where the person will be posted. The output must be in JSON.\\'''\n",
        "\n",
        "## Understanding the prompt:\n",
        "The prompt instructs the entity (in this case, the GPT API) to extract and summarize certain details from a provided job description and represent the information in a JSON format.\n",
        "\n",
        "All the information needs to be structured in a JSON format, which is a standard data format used to store and transport data in a structured manner. It essentially means that the output should be a text with field names and their corresponding values enclosed in curly braces.\n",
        "\n",
        "The intention behind the prompt is to have a structured output containing all the necessary details extracted from a job description, which makes it easier to quickly understand the key requirements and details of the job role.\n"
      ]
    },
    {
      "cell_type": "code",
      "execution_count": 11,
      "metadata": {
        "id": "H3FziOPPHnvx",
        "colab": {
          "base_uri": "https://localhost:8080/"
        },
        "outputId": "903ebe1f-4759-415e-f369-45208de3bb08"
      },
      "outputs": [
        {
          "output_type": "stream",
          "name": "stdout",
          "text": [
            "extracted information {\n",
            "  \"position_name\": \"Software Engineer - Computer Vision\",\n",
            "  \"description\": \"Big Vision AI is a renowned consulting firm specializing in Computer Vision, Deep Learning, Machine Learning, and Artificial Intelligence (AI) research and development. Our areas of expertise span:  Image recognition, Object detection and tracking, Image segmentation, Human body pose estimation, Optical character recognition (OCR), Face detection and recognition, Augmented reality, 3D reconstruction, Medical image processing, and many more. With a strong foundation in libraries like OpenCV, Dlib, as well as frameworks like PyTorch and TensorFlow/Keras, we not only focus on training AI models but also emphasize their performance optimization for deployment on diverse platforms, including the cloud or edge devices such as Raspberry Pi.\",\n",
            "  \"role_responsibilities\": \"Engage in both research and the productization of new computer vision/ML features. Continuously enhance and optimize existing software modules.\",\n",
            "  \"key_skills\": \"Significant experience in the image/video domain. Proficiency in writing production-quality Python code. Hands-on experience with OpenCV for developing Computer Vision applications. Acquaintance with C++ and MATLAB is a plus. Experience with prevalent learning frameworks, including TensorFlow, PyTorch, and CAFFE. A strong understanding of Algorithms and Data-structures. Familiarity with code optimization techniques for memory and performance utilizing profiling tools, is an advantage.\",\n",
            "  \"other_desirable_qualities\": \"Effective communication skills. Ability to be an efficient team player. Capability to work independently on assigned tasks. Critical thinking abilities. Zeal for acquiring and implementing new skills.\",\n",
            "  \"must_have_skills\": [\n",
            "    \"TensorFlow\",\n",
            "    \"Keras\",\n",
            "    \"PyTorch\",\n",
            "    \"Computer Vision\"\n",
            "  ],\n",
            "  \"technical_summary\": \"Computer Vision, Deep Learning, Machine Learning, Image recognition, Object detection and tracking, Image segmentation, Human body pose estimation, Optical character recognition (OCR), Face detection and recognition, Augmented reality, 3D reconstruction, Medical image processing, OpenCV, PyTorch, TensorFlow, Keras\",\n",
            "  \"soft_skills_summary\": \"Effective communication, Team player, Independent work, Critical thinking, Continuous learning\",\n",
            "  \"year_of_experience\": \"0-3\",\n",
            "  \"CTC\": \"$100k - $150k\",\n",
            "  \"notice_period\": \"1 month\",\n",
            "  \"educational_requirement\": \"None\",\n",
            "  \"location\": \"San Francisco\"\n",
            "}\n"
          ]
        }
      ],
      "source": [
        "system_prompt_v3 = '''Give information about \"year_of_experience\", \"CTC\", \"notice_period\" and \"educational_requirement\" if available in the description. \\\n",
        "If not mark it as none. Also, summarize the technical skills needed in the \"technical_summary\" field.\\\n",
        "Summarize other needed skills like soft skills needed in the \"soft_skills_summary\" field. \\\n",
        "Also, add \"must_have_skills\" - these are the most important requirements from the job description, clearly mentioned as must have skills. \\\n",
        "\"location\" is the place where the person will be posted. The output must be in JSON.\\\n",
        "'''\n",
        "extracted_info = processor.process_requirement(requirement_description, system_prompt_v3)\n",
        "print(\"extracted information\", extracted_info)"
      ]
    },
    {
      "cell_type": "markdown",
      "source": [
        "**Note**: In the case of the outputs generated by the above cell, we are  getting unwanted JSON keys and values like as shown\n",
        "\n",
        "```\n",
        "  \"position_name\": \"Software Engineer - Computer Vision\",\n",
        "  \"description\": \"Big Vision AI is a renowned consulting firm specializing in Computer Vision, Deep Learning, Machine Learning, and Artificial Intelligence (AI) research and development. Our areas of expertise span:  Image recognition, Object detection and tracking, Image segmentation, Human body pose estimation, Optical character recognition (OCR), Face detection and recognition, Augmented reality, 3D reconstruction, Medical image processing, and many more. With a strong foundation in libraries like OpenCV, Dlib, as well as frameworks like PyTorch and TensorFlow/Keras, we not only focus on training AI models but also emphasize their performance optimization for deployment on diverse platforms, including the cloud or edge devices such as Raspberry Pi.\",\n",
        "  \"role_responsibilities\": \"Engage in both research and the productization of new computer vision/ML features. Continuously enhance and optimize existing software modules.\",\n",
        "```\n",
        "Therefore, we need to rectify this in the next iteration\n"
      ],
      "metadata": {
        "id": "FRAbnYh0JzOa"
      }
    },
    {
      "cell_type": "markdown",
      "metadata": {
        "id": "ZY9ToAjeNV8-"
      },
      "source": [
        "# Output:\n",
        "\n",
        "\n",
        "```\n",
        "extracted information {\n",
        "  \"position_name\": \"Software Engineer - Computer Vision\",\n",
        "  \"description\": \"Big Vision AI is a renowned consulting firm specializing in Computer Vision, Deep Learning, Machine Learning, and Artificial Intelligence (AI) research and development. Our areas of expertise span:  Image recognition, Object detection and tracking, Image segmentation, Human body pose estimation, Optical character recognition (OCR), Face detection and recognition, Augmented reality, 3D reconstruction, Medical image processing, and many more. With a strong foundation in libraries like OpenCV, Dlib, as well as frameworks like PyTorch and TensorFlow/Keras, we not only focus on training AI models but also emphasize their performance optimization for deployment on diverse platforms, including the cloud or edge devices such as Raspberry Pi.\",\n",
        "  \"role_responsibilities\": \"Engage in both research and the productization of new computer vision/ML features. Continuously enhance and optimize existing software modules.\",\n",
        "  \"key_skills\": \"Significant experience in the image/video domain. Proficiency in writing production-quality Python code. Hands-on experience with OpenCV for developing Computer Vision applications. Acquaintance with C++ and MATLAB is a plus. Experience with prevalent learning frameworks, including TensorFlow, PyTorch, and CAFFE. A strong understanding of Algorithms and Data-structures. Familiarity with code optimization techniques for memory and performance utilizing profiling tools, is an advantage.\",\n",
        "  \"other_desirable_qualities\": \"Effective communication skills. Ability to be an efficient team player. Capability to work independently on assigned tasks. Critical thinking abilities. Zeal for acquiring and implementing new skills.\",\n",
        "  \"must_have_skills\": [\n",
        "    \"TensorFlow\",\n",
        "    \"Keras\",\n",
        "    \"PyTorch\",\n",
        "    \"Computer Vision\"\n",
        "  ],\n",
        "  \"technical_summary\": \"Computer Vision, Deep Learning, Machine Learning, Image recognition, Object detection and tracking, Image segmentation, Human body pose estimation, Optical character recognition (OCR), Face detection and recognition, Augmented reality, 3D reconstruction, Medical image processing, OpenCV, PyTorch, TensorFlow, Keras\",\n",
        "  \"soft_skills_summary\": \"Effective communication, Team player, Independent work, Critical thinking, Continuous learning\",\n",
        "  \"year_of_experience\": \"0-3\",\n",
        "  \"CTC\": \"$100k - $150k\",\n",
        "  \"notice_period\": \"1 month\",\n",
        "  \"educational_requirement\": \"None\",\n",
        "  \"location\": \"San Francisco\"\n",
        "}\n",
        "```\n",
        "\n"
      ]
    },
    {
      "cell_type": "markdown",
      "metadata": {
        "id": "ywE4hmmxetHv"
      },
      "source": [
        "# *Direct the model explicitly to provide output in a desired JSON format*\n",
        "# *The last version may produce ambiguous outputs. Direct commands reduce uncertainty, ensuring the output aligns with our format requirements.*\n",
        "\n",
        "# Prompt Version 4:\n",
        "system_prompt_v4 = '''Return to me in json format information about \"year_of_experience\", \"CTC\", \"notice_period\" and \"educational_requirement\" if available in the description. \\\n",
        "If not mark it as none. Also, summarize the technical skills needed in the \"technical_summary\" field.\\\n",
        "Summarize other needed skills like soft skills needed in the \"soft_skills_summary\" field. \\\n",
        "Also, add \"must_have_skills\" - these are the most important requirements from the job description, clearly mentioned as must have skills. \\\n",
        "\"location\" is the place where the person will be posted. The output must be in JSON.'''\n",
        "\n",
        "## Understanding the prmopt:\n",
        "\n",
        "This latest version of the prompt is designed to guide the extraction of specific information from a job description and to organize that data into a JSON format. Here’s the summary of each part of the instruction:\n",
        "\n",
        "1. **Return the Following Details in JSON Format**:\n",
        "    - **Explanation**: The prompt begins with a clear directive to return the gathered information structured in JSON format. JSON format organizes data in key-value pairs, making it easy to read and process.\n",
        "\n",
        "2. **\"year_of_experience\"**:\n",
        "    - **Explanation**: Look for information about the required years of experience in the job description. If the information is not available, it should be reported as \"none\".\n",
        "\n",
        "3. **\"CTC\" (Cost to Company)**:\n",
        "    - **Explanation**: Find and report the CTC details available in the job description. If such details are not mentioned, it should be reported as \"none\".\n",
        "\n",
        "4. **\"notice_period\"**:\n",
        "    - **Explanation**: Note the notice period details from the job description. If this information is absent, it should be marked as \"none\".\n",
        "\n",
        "5. **\"educational_requirement\"**:\n",
        "    - **Explanation**: The user is to find and state the educational requirements mentioned in the job description. In the absence of this information, it should be reported as \"none\".\n",
        "\n",
        "6. **\"technical_summary\"**:\n",
        "    - **Explanation**: Summarize the technical skills required for the job role as indicated in the job description, consolidating them into a \"technical_summary\" field.\n",
        "\n",
        "7. **\"soft_skills_summary\"**:\n",
        "    - **Explanation**: Find and summarize the soft skills specified in the job description, and compile them into a \"soft_skills_summary\" field.\n",
        "\n",
        "8. **\"must_have_skills\"**:\n",
        "    - **Explanation**: Identify and list the skills clearly labeled as essential or \"must-have\" in the job description, noting them in the \"must_have_skills\" field.\n",
        "\n",
        "9. **\"location\"**:\n",
        "    - **Explanation**: Find the job location from the job description and mention it in the \"location\" field. If not specified, it should be mentioned as \"none\".\n",
        "\n",
        "10. **Instruction on Output Format**:\n",
        "    - **Explanation**: The output should strictly be in JSON format, reinforcing the initial directive.\n",
        "\n",
        "In this refined prompt, you have added a directive at the beginning, instructing clearly to \"Return to me in json format\", which sets a clear expectation for the kind of output you are looking for, thereby reducing the scope for ambiguous outputs. This makes it more explicit and straightforward, guiding the GPT model to align the output exactly as per your format requirements. It instructs a structured representation of various details extracted from a job description in a JSON format, which ensures a clear and organized presentation of the information."
      ]
    },
    {
      "cell_type": "code",
      "execution_count": 12,
      "metadata": {
        "id": "xQdkg3GURJoG",
        "colab": {
          "base_uri": "https://localhost:8080/"
        },
        "outputId": "e984d544-f2e2-4f73-fb96-12f42ee49442"
      },
      "outputs": [
        {
          "output_type": "stream",
          "name": "stdout",
          "text": [
            "extracted information {\n",
            "  \"year_of_experience\": \"0-3\",\n",
            "  \"CTC\": \"100k-150k dollars\",\n",
            "  \"notice_period\": \"1 month\",\n",
            "  \"educational_requirement\": \"none\",\n",
            "  \"technical_summary\": [\n",
            "    \"OpenCV\",\n",
            "    \"Python\",\n",
            "    \"C++\",\n",
            "    \"MATLAB\",\n",
            "    \"TensorFlow\",\n",
            "    \"PyTorch\",\n",
            "    \"CAFFE\",\n",
            "    \"Algorithms\",\n",
            "    \"Data-structures\"\n",
            "  ],\n",
            "  \"soft_skills_summary\": [\n",
            "    \"Effective communication\",\n",
            "    \"Team player\",\n",
            "    \"Independent work\",\n",
            "    \"Critical thinking\",\n",
            "    \"Zeal for learning\"\n",
            "  ],\n",
            "  \"must_have_skills\": [\n",
            "    \"TensorFlow\",\n",
            "    \"Keras\",\n",
            "    \"PyTorch\",\n",
            "    \"Computer Vision\"\n",
            "  ],\n",
            "  \"location\": \"San Francisco\"\n",
            "}\n"
          ]
        }
      ],
      "source": [
        "system_prompt_v4 = '''Return to me in json format information about \"year_of_experience\", \"CTC\", \"notice_period\" and \"educational_requirement\" if available in the description. \\\n",
        "If not mark it as none. Also, summarize the technical skills needed in the \"technical_summary\" field.\\\n",
        "Summarize other needed skills like soft skills needed in the \"soft_skills_summary\" field. \\\n",
        "Also, add \"must_have_skills\" - these are the most important requirements from the job description, clearly mentioned as must have skills. \\\n",
        "\"location\" is the place where the person will be posted. The output must be in JSON.\\\n",
        "'''\n",
        "extracted_info = processor.process_requirement(requirement_description, system_prompt_v4)\n",
        "print(\"extracted information\", extracted_info)"
      ]
    },
    {
      "cell_type": "markdown",
      "source": [
        "**Note**:\n",
        "We are going to use `json.loads()` to process the outputs in the later Assignments. `json.loads()` throws\n",
        "`json.JSONDecodeError` if the provided input is not a valid `JSON` string. Examples of them are:\n",
        "1. Missing double quotes around property names:\n",
        "  '{year_of_experience: \"0-3\", CTC: \"12-18\"}'\n",
        "2. Trailing comma:\n",
        "  '{\"year_of_experience\": \"0-3\", \"CTC\": \"12-18\",}'\n",
        "3. Single quotes for property names or values:\n",
        "  \"{'year_of_experience': '0-3', 'CTC': '12-18'}\"\n",
        "4. Unescaped double quote inside a property value:\n",
        "  '{\"technical_summary\": \"Uses the library \"OpenCV\" extensively.\"}'\n",
        "5. Unexpected characters, e.g., double colons:\n",
        "  '{\"year_of_experience\":: \"0-3\", \"CTC\": \"12-18\"}'\n",
        "6. Missing closing brace:\n",
        "  '{\"year_of_experience\": \"0-3\", \"CTC\": \"12-18\"'\n",
        "7. Additional comma in the array-like comma-separated values:\n",
        "  '{\"technical_summary\": \"image recognition, object detection,,\"}'\n",
        "\n",
        "That is why we need to mention this in the next iteration of the prompt.\n",
        "\n"
      ],
      "metadata": {
        "id": "MeWVkbzXK-pc"
      }
    },
    {
      "cell_type": "markdown",
      "metadata": {
        "id": "wSW2iAOvNZ_U"
      },
      "source": [
        "# Output:\n",
        "\n",
        "\n",
        "```\n",
        "extracted information {\n",
        "  \"year_of_experience\": \"0-3\",\n",
        "  \"CTC\": \"100k-150k dollars\",\n",
        "  \"notice_period\": \"1 month\",\n",
        "  \"educational_requirement\": \"none\",\n",
        "  \"technical_summary\": [\n",
        "    \"OpenCV\",\n",
        "    \"Python\",\n",
        "    \"C++\",\n",
        "    \"MATLAB\",\n",
        "    \"TensorFlow\",\n",
        "    \"PyTorch\",\n",
        "    \"CAFFE\",\n",
        "    \"Algorithms\",\n",
        "    \"Data-structures\"\n",
        "  ],\n",
        "  \"soft_skills_summary\": [\n",
        "    \"Effective communication\",\n",
        "    \"Team player\",\n",
        "    \"Independent work\",\n",
        "    \"Critical thinking\",\n",
        "    \"Zeal for learning\"\n",
        "  ],\n",
        "  \"must_have_skills\": [\n",
        "    \"TensorFlow\",\n",
        "    \"Keras\",\n",
        "    \"PyTorch\",\n",
        "    \"Computer Vision\"\n",
        "  ],\n",
        "  \"location\": \"San Francisco\"\n",
        "}\n",
        "```\n",
        "\n"
      ]
    },
    {
      "cell_type": "markdown",
      "metadata": {
        "id": "NDYhku-HfJfk"
      },
      "source": [
        "# *Ensure the output can be easily parsed by subsequent code, like using `json.loads()`*\n",
        "# *The prior prompt's response might not be perfectly compatible with `json.loads()`. By specifying the downstream application, we aim for a response that can be parsed without hiccups.*\n",
        "# Prompt Version 5:\n",
        "system_prompt_v5 = '''Return to me in json format information about \"year_of_experience\", \"CTC\", \"notice_period\" and \"educational_requirement\" if available in the description. \\\n",
        "If not mark it as none. Also, summarize the technical skills needed in the \"technical_summary\" field.\\\n",
        "Summarize other needed skills like soft skills needed in the \"soft_skills_summary\" field. \\\n",
        "Also, add \"must_have_skills\" - these are the most important requirements from the job description, clearly mentioned as must have skills. \\\n",
        "\"location\" is the place where the person will be posted. The output must be in JSON. I will use json.loads to convert it to a dictionary.'''\n",
        "\n",
        "## Understanding the prompt:\n",
        "\n",
        "In this prompt, you are instructing the GPT-3 API to extract specified details from a job description, such as \"year_of_experience\", \"CTC\", etc., and present them in a JSON format that can be later parsed into a Python dictionary using the `json.loads()` method. This ensures that the output not only retains the necessary details but is also structured in a way conducive to further programmatic manipulation. It stresses compatibility with subsequent code, highlighting the practical application of the output.\n",
        "\n"
      ]
    },
    {
      "cell_type": "code",
      "execution_count": 13,
      "metadata": {
        "id": "QcjJHdRMSpXT",
        "colab": {
          "base_uri": "https://localhost:8080/"
        },
        "outputId": "9c09c55d-6925-475f-9f17-3c85437dcd76"
      },
      "outputs": [
        {
          "output_type": "stream",
          "name": "stdout",
          "text": [
            "extracted information {\n",
            "  \"year_of_experience\": {\n",
            "    \"minimum\": 0,\n",
            "    \"maximum\": 3\n",
            "  },\n",
            "  \"CTC\": {\n",
            "    \"minimum\": 100000,\n",
            "    \"maximum\": 150000\n",
            "  },\n",
            "  \"notice_period\": \"1 month\",\n",
            "  \"educational_requirement\": \"none\",\n",
            "  \"technical_summary\": \"Computer Vision, Deep Learning, Machine Learning, OpenCV, PyTorch, TensorFlow/Keras\",\n",
            "  \"soft_skills_summary\": \"Effective communication skills, ability to be an efficient team player, capability to work independently, critical thinking abilities, zeal for acquiring and implementing new skills\",\n",
            "  \"must_have_skills\": [\n",
            "    \"TensorFlow\",\n",
            "    \"Keras\",\n",
            "    \"PyTorch\",\n",
            "    \"Computer Vision\"\n",
            "  ],\n",
            "  \"location\": \"San Francisco\"\n",
            "}\n"
          ]
        }
      ],
      "source": [
        "system_prompt_v5 = '''Return to me in json format information about \"year_of_experience\", \"CTC\", \"notice_period\" and \"educational_requirement\" if available in the description. \\\n",
        "If not mark it as none. Also, summarize the technical skills needed in the \"technical_summary\" field.\\\n",
        "Summarize other needed skills like soft skills needed in the \"soft_skills_summary\" field. \\\n",
        "Also, add \"must_have_skills\" - these are the most important requirements from the job description, clearly mentioned as must have skills. \\\n",
        "\"location\" is the place where the person will be posted. The output must be in JSON. I will use json.loads to convert it to a dictionary.\\\n",
        "'''\n",
        "extracted_info = processor.process_requirement(requirement_description, system_prompt_v5)\n",
        "print(\"extracted information\", extracted_info)"
      ]
    },
    {
      "cell_type": "markdown",
      "source": [
        "**Note**:\n",
        "In the case of above cell, it can be seen that on multiple cell runs, the values of `technical_summary` and `soft_skills_summary` sometimes changes to a list and sometimes outputs a string which can cause problems in later stages. So, we need to fix this in the next prompt iteration."
      ],
      "metadata": {
        "id": "6YTmOOhvPd_x"
      }
    },
    {
      "cell_type": "markdown",
      "metadata": {
        "id": "pVcSSO3BN9dq"
      },
      "source": [
        "# Output:\n",
        "\n",
        "\n",
        "```\n",
        "extracted information {\n",
        "  \"year_of_experience\": {\n",
        "    \"minimum\": 0,\n",
        "    \"maximum\": 3\n",
        "  },\n",
        "  \"CTC\": {\n",
        "    \"minimum\": 100000,\n",
        "    \"maximum\": 150000\n",
        "  },\n",
        "  \"notice_period\": \"1 month\",\n",
        "  \"educational_requirement\": \"none\",\n",
        "  \"technical_summary\": \"Computer Vision, Deep Learning, Machine Learning, OpenCV, PyTorch, TensorFlow/Keras\",\n",
        "  \"soft_skills_summary\": \"Effective communication skills, ability to be an efficient team player, capability to work independently, critical thinking abilities, zeal for acquiring and implementing new skills\",\n",
        "  \"must_have_skills\": [\n",
        "    \"TensorFlow\",\n",
        "    \"Keras\",\n",
        "    \"PyTorch\",\n",
        "    \"Computer Vision\"\n",
        "  ],\n",
        "  \"location\": \"San Francisco\"\n",
        "}\n",
        "```\n",
        "\n"
      ]
    },
    {
      "cell_type": "markdown",
      "metadata": {
        "id": "yInusWJCfYcE"
      },
      "source": [
        "# *Guide the model to list technical skills as separate points for clarity*\n",
        "# *Earlier responses may have clumped skills together as a string. Enumerating skills provides easier and quicker scanning for recruiters or HR systems*\n",
        "# Prompt Version 6:\n",
        "system_prompt_v6 = '''Return to me in json format information about \"year_of_experience\", \"CTC\", \"notice_period\" and \"educational_requirement\" if available in the description. \\\n",
        "If not mark it as none. Also, summarize the technical skills needed in the \"technical_summary\" field. Provide this technical summary as a list of points.\\\n",
        "Summarize other needed skills like soft skills needed in the \"soft_skills_summary\" field. \\\n",
        "Also, add \"must_have_skills\" - these are the most important requirements from the job description, clearly mentioned as must have skills. \\\n",
        "\"location\" is the place where the person will be posted. The output must be in JSON. I will use json.loads to convert it to a dictionary.'''\n",
        "\n",
        "## Understanding the prompt:\n",
        "\n",
        "In this updated prompt, you're asking the GPT-3 API to extract specified details from a job description and represent them in JSON format, emphasizing the representation of technical skills as a list of individual points for easier readability and analysis. This facilitates more efficient scanning for recruiters and HR systems, allowing for a better organization and quick retrieval of pertinent details, which aids in the smoother downstream processing of the data using `json.loads()`. The objective is to generate a response that neatly compartmentalizes each skill, enhancing clarity."
      ]
    },
    {
      "cell_type": "code",
      "execution_count": 14,
      "metadata": {
        "id": "G4a5dDsfSvuy",
        "colab": {
          "base_uri": "https://localhost:8080/"
        },
        "outputId": "9d59d207-61b8-46e8-e27a-d77a6914ae3f"
      },
      "outputs": [
        {
          "output_type": "stream",
          "name": "stdout",
          "text": [
            "extracted information {\n",
            "  \"year_of_experience\": \"0-3\",\n",
            "  \"CTC\": {\n",
            "    \"minimum\": \"100k\",\n",
            "    \"maximum\": \"150k\"\n",
            "  },\n",
            "  \"notice_period\": \"1 month\",\n",
            "  \"educational_requirement\": \"none\",\n",
            "  \"technical_summary\": [\n",
            "    \"Python\",\n",
            "    \"OpenCV\",\n",
            "    \"C++\",\n",
            "    \"MATLAB\",\n",
            "    \"TensorFlow\",\n",
            "    \"PyTorch\",\n",
            "    \"CAFFE\",\n",
            "    \"Algorithms\",\n",
            "    \"Data-structures\",\n",
            "    \"Profiling tools\",\n",
            "    \"Cloud deployment\",\n",
            "    \"Edge devices\"\n",
            "  ],\n",
            "  \"soft_skills_summary\": [\n",
            "    \"Effective communication\",\n",
            "    \"Efficient team player\",\n",
            "    \"Ability to work independently\",\n",
            "    \"Critical thinking\",\n",
            "    \"Zeal for learning and implementing new skills\"\n",
            "  ],\n",
            "  \"must_have_skills\": [\n",
            "    \"TensorFlow\",\n",
            "    \"Keras\",\n",
            "    \"PyTorch\",\n",
            "    \"Computer Vision\"\n",
            "  ],\n",
            "  \"location\": \"San Francisco\"\n",
            "}\n"
          ]
        }
      ],
      "source": [
        "system_prompt_v6 = '''Return to me in json format information about \"year_of_experience\", \"CTC\", \"notice_period\" and \"educational_requirement\" if available in the description. \\\n",
        "If not mark it as none. Also, summarize the technical skills needed in the \"technical_summary\" field. Provide this technical summary as a list of points.\\\n",
        "Summarize other needed skills like soft skills needed in the \"soft_skills_summary\" field. \\\n",
        "Also, add \"must_have_skills\" - these are the most important requirements from the job description, clearly mentioned as must have skills. \\\n",
        "\"location\" is the place where the person will be posted. The output must be in JSON. I will use json.loads to convert it to a dictionary.\\\n",
        "'''\n",
        "extracted_info = processor.process_requirement(requirement_description, system_prompt_v6)\n",
        "print(\"extracted information\", extracted_info)"
      ]
    },
    {
      "cell_type": "markdown",
      "source": [
        "**Note**:\n",
        "In some outputs, we've observed that fields like `year_of_experience` and `CTC` occasionally include undesired keys such as `minimum`, `maximum`, `min`, or `max`. To ensure consistency and accuracy, these keys need to be removed from the output."
      ],
      "metadata": {
        "id": "5L03KrbfQ8f9"
      }
    },
    {
      "cell_type": "markdown",
      "metadata": {
        "id": "nET5KvCuOAxu"
      },
      "source": [
        "# Output:\n",
        "\n",
        "\n",
        "```\n",
        "extracted information {\n",
        "  \"year_of_experience\": \"0-3\",\n",
        "  \"CTC\": {\n",
        "    \"minimum\": \"100k\",\n",
        "    \"maximum\": \"150k\"\n",
        "  },\n",
        "  \"notice_period\": \"1 month\",\n",
        "  \"educational_requirement\": \"none\",\n",
        "  \"technical_summary\": [\n",
        "    \"Python\",\n",
        "    \"OpenCV\",\n",
        "    \"C++\",\n",
        "    \"MATLAB\",\n",
        "    \"TensorFlow\",\n",
        "    \"PyTorch\",\n",
        "    \"CAFFE\",\n",
        "    \"Algorithms\",\n",
        "    \"Data-structures\",\n",
        "    \"Profiling tools\",\n",
        "    \"Cloud deployment\",\n",
        "    \"Edge devices\"\n",
        "  ],\n",
        "  \"soft_skills_summary\": [\n",
        "    \"Effective communication\",\n",
        "    \"Efficient team player\",\n",
        "    \"Ability to work independently\",\n",
        "    \"Critical thinking\",\n",
        "    \"Zeal for learning and implementing new skills\"\n",
        "  ],\n",
        "  \"must_have_skills\": [\n",
        "    \"TensorFlow\",\n",
        "    \"Keras\",\n",
        "    \"PyTorch\",\n",
        "    \"Computer Vision\"\n",
        "  ],\n",
        "  \"location\": \"San Francisco\"\n",
        "}\n",
        "\n",
        "```\n",
        "\n"
      ]
    },
    {
      "cell_type": "markdown",
      "metadata": {
        "id": "GAUDQ2NGfjLm"
      },
      "source": [
        "# *Extract experience and CTC in a specific format (lower-upper) for consistency*\n",
        "# *The previous prompt might produce varied formats for experience and CTC like \"year_of_experience\":{\"minimum\": 0, \"maximum\": 3}, \"CTC\": {\"minimum\": 12 \"maximum\": 18}. Uniform data formats simplify comparison across job descriptions and streamline analytics tasks*\n",
        "\n",
        "# Prompt Version 7:\n",
        "system_prompt_v7 = '''You are an assistant to the recruiter. \\\n",
        "You need to be very truthful since this information will be used in recruiting a person. \\\n",
        "Return to me in json format, \"year_of_experience\", \"CTC\", \"notice_period\", \"educational_requirement\" if available in the description, \"year_of_experience\", \"CTC\" should only show the lower and upper limit like (lower-upper). \\\n",
        "If not mark it as none. Also, summarize the technical skills needed in the \"technical_summary\" field for the recruiter to be clear. \\\n",
        "Provide this technical summary as a list of points.\\\n",
        "Summarize other needed skills like soft skills needed in the \"soft_skills_summary\" field. \\\n",
        "Also, add \"must_have_skills\" - these are the most important requirements from the job description, clearly mentioned as must have skills. \\\n",
        "\"location\" is the place where the person will be posted. The output must be in JSON. I will use json.loads to convert it to a dictionary.'''\n",
        "\n",
        "## Understanding the prompt:\n",
        "\n",
        "In this version of the prompt, you are guiding GPT-3 to assist in the recruitment process by extracting vital details from job descriptions and structuring them in a JSON format. It directs the API to present the \"year_of_experience\" and \"CTC\" in a specific lower-upper limit format, ensuring consistency and facilitating easier comparison across various job descriptions. The instructions emphasize presenting the technical skills as a list of individual points, maintaining clarity for the recruiter, and ensuring the output is compatible with the `json.loads()` method for smooth data processing in subsequent steps. The prompt insists on truthful and precise information reflecting the necessity of accuracy in recruitment tasks."
      ]
    },
    {
      "cell_type": "code",
      "execution_count": 15,
      "metadata": {
        "id": "c76cZQH7S-rJ",
        "colab": {
          "base_uri": "https://localhost:8080/"
        },
        "outputId": "bb64a0e1-cece-4feb-f05e-590549c0dd65"
      },
      "outputs": [
        {
          "output_type": "stream",
          "name": "stdout",
          "text": [
            "extracted information {\n",
            "  \"year_of_experience\": \"0-3\",\n",
            "  \"CTC\": \"100k-150k dollars\",\n",
            "  \"notice_period\": \"1 month\",\n",
            "  \"educational_requirement\": null,\n",
            "  \"technical_summary\": [\n",
            "    \"Significant experience in the image/video domain\",\n",
            "    \"Proficiency in writing production-quality Python code\",\n",
            "    \"Hands-on experience with OpenCV for developing Computer Vision applications\",\n",
            "    \"Experience with prevalent learning frameworks including TensorFlow, PyTorch, and CAFFE\",\n",
            "    \"Understanding of Algorithms and Data-structures\"\n",
            "  ],\n",
            "  \"soft_skills_summary\": [\n",
            "    \"Effective communication skills\",\n",
            "    \"Ability to be an efficient team player\",\n",
            "    \"Capability to work independently on assigned tasks\",\n",
            "    \"Critical thinking abilities\",\n",
            "    \"Zeal for acquiring and implementing new skills\"\n",
            "  ],\n",
            "  \"must_have_skills\": [\n",
            "    \"TensorFlow\",\n",
            "    \"Keras\",\n",
            "    \"PyTorch\",\n",
            "    \"Computer Vision\"\n",
            "  ],\n",
            "  \"location\": \"San Francisco\"\n",
            "}\n"
          ]
        }
      ],
      "source": [
        "system_prompt_v7 = '''You are an assistant to the recruiter. \\\n",
        "You need to be very truthful since this information will be used in recruiting a person. \\\n",
        "Return to me in json format, \"year_of_experience\", \"CTC\", \"notice_period\", \"educational_requirement\" if available in the description, \"year_of_experience\", \"CTC\" should only show the lower and upper limit like (lower-upper). \\\n",
        "If not mark it as none. Also, summarize the technical skills needed in the \"technical_summary\" field for the recruiter to be clear. \\\n",
        "Provide this technical summary as a list of points.\\\n",
        "Summarize other needed skills like soft skills needed in the \"soft_skills_summary\" field. \\\n",
        "Also, add \"must_have_skills\" - these are the most important requirements from the job description, clearly mentioned as must have skills. \\\n",
        "\"location\" is the place where the person will be posted. The output must be in JSON. I will use json.loads to convert it to a dictionary.\\\n",
        "'''\n",
        "extracted_info = processor.process_requirement(requirement_description, system_prompt_v7)\n",
        "print(\"extracted information\", extracted_info)"
      ]
    },
    {
      "cell_type": "markdown",
      "metadata": {
        "id": "ag8gJn1LORs8"
      },
      "source": [
        "# Output:\n",
        "\n",
        "\n",
        "```\n",
        "extracted information {\n",
        "  \"year_of_experience\": \"0-3\",\n",
        "  \"CTC\": \"100k-150k dollars\",\n",
        "  \"notice_period\": \"1 month\",\n",
        "  \"educational_requirement\": null,\n",
        "  \"technical_summary\": [\n",
        "    \"Significant experience in the image/video domain\",\n",
        "    \"Proficiency in writing production-quality Python code\",\n",
        "    \"Hands-on experience with OpenCV for developing Computer Vision applications\",\n",
        "    \"Experience with prevalent learning frameworks including TensorFlow, PyTorch, and CAFFE\",\n",
        "    \"Understanding of Algorithms and Data-structures\"\n",
        "  ],\n",
        "  \"soft_skills_summary\": [\n",
        "    \"Effective communication skills\",\n",
        "    \"Ability to be an efficient team player\",\n",
        "    \"Capability to work independently on assigned tasks\",\n",
        "    \"Critical thinking abilities\",\n",
        "    \"Zeal for acquiring and implementing new skills\"\n",
        "  ],\n",
        "  \"must_have_skills\": [\n",
        "    \"TensorFlow\",\n",
        "    \"Keras\",\n",
        "    \"PyTorch\",\n",
        "    \"Computer Vision\"\n",
        "  ],\n",
        "  \"location\": \"San Francisco\"\n",
        "}\n",
        "```\n",
        "\n"
      ]
    },
    {
      "cell_type": "code",
      "source": [
        "import json\n",
        "\n",
        "def save_to_json(data, filename='data.json'):\n",
        "    \"\"\"\n",
        "    Save a Python data structure to a JSON file.\n",
        "\n",
        "    Args:\n",
        "    - data (dict or str): The Python data structure to be saved. Can be a string (that can be loaded as JSON) or a dictionary.\n",
        "    - filename (str): The name of the JSON file.\n",
        "\n",
        "    Returns:\n",
        "    - None\n",
        "    \"\"\"\n",
        "    # Check if the data is already a string and try to load it into a Python object.\n",
        "    # If it's already a Python object (like a dictionary or list), then pass.\n",
        "    if isinstance(data, str):\n",
        "        try:\n",
        "            data = json.loads(data)\n",
        "        except json.JSONDecodeError:\n",
        "            raise ValueError(\"The provided string is not valid JSON.\")\n",
        "    elif not isinstance(data, (dict, list)):\n",
        "        raise TypeError(\"The data should either be a valid JSON string, dictionary, or list.\")\n",
        "\n",
        "    with open(filename, 'w') as f:\n",
        "        json.dump(data, f)\n",
        "\n",
        "save_to_json(extracted_info, '/content/requirements_output.json')  # This will save the data to 'my_data.json' file.\n"
      ],
      "metadata": {
        "id": "oBvt3XOpUX7v"
      },
      "execution_count": 18,
      "outputs": []
    },
    {
      "cell_type": "markdown",
      "source": [
        "Download the file `requirements_output.json` which will be used in the next assignments."
      ],
      "metadata": {
        "id": "gIuNR9JkJBzD"
      }
    },
    {
      "cell_type": "code",
      "execution_count": 17,
      "metadata": {
        "id": "vVVbrr64TGUJ",
        "colab": {
          "base_uri": "https://localhost:8080/",
          "height": 17
        },
        "outputId": "d63b7fb1-942d-4f16-a073-cc66b42022d3"
      },
      "outputs": [
        {
          "output_type": "display_data",
          "data": {
            "text/plain": [
              "<IPython.core.display.Javascript object>"
            ],
            "application/javascript": [
              "\n",
              "    async function download(id, filename, size) {\n",
              "      if (!google.colab.kernel.accessAllowed) {\n",
              "        return;\n",
              "      }\n",
              "      const div = document.createElement('div');\n",
              "      const label = document.createElement('label');\n",
              "      label.textContent = `Downloading \"${filename}\": `;\n",
              "      div.appendChild(label);\n",
              "      const progress = document.createElement('progress');\n",
              "      progress.max = size;\n",
              "      div.appendChild(progress);\n",
              "      document.body.appendChild(div);\n",
              "\n",
              "      const buffers = [];\n",
              "      let downloaded = 0;\n",
              "\n",
              "      const channel = await google.colab.kernel.comms.open(id);\n",
              "      // Send a message to notify the kernel that we're ready.\n",
              "      channel.send({})\n",
              "\n",
              "      for await (const message of channel.messages) {\n",
              "        // Send a message to notify the kernel that we're ready.\n",
              "        channel.send({})\n",
              "        if (message.buffers) {\n",
              "          for (const buffer of message.buffers) {\n",
              "            buffers.push(buffer);\n",
              "            downloaded += buffer.byteLength;\n",
              "            progress.value = downloaded;\n",
              "          }\n",
              "        }\n",
              "      }\n",
              "      const blob = new Blob(buffers, {type: 'application/binary'});\n",
              "      const a = document.createElement('a');\n",
              "      a.href = window.URL.createObjectURL(blob);\n",
              "      a.download = filename;\n",
              "      div.appendChild(a);\n",
              "      a.click();\n",
              "      div.remove();\n",
              "    }\n",
              "  "
            ]
          },
          "metadata": {}
        },
        {
          "output_type": "display_data",
          "data": {
            "text/plain": [
              "<IPython.core.display.Javascript object>"
            ],
            "application/javascript": [
              "download(\"download_0e437f99-f406-4700-a582-11c06264fe85\", \"requirements_output.json\", 810)"
            ]
          },
          "metadata": {}
        }
      ],
      "source": [
        "from google.colab import files\n",
        "\n",
        "# List of file paths that you want to download\n",
        "file_path = \"/content/requirements_output.json\"\n",
        "\n",
        "# Download each file to your local system\n",
        "files.download(file_path)"
      ]
    },
    {
      "cell_type": "markdown",
      "source": [
        "In this notebook, we explored techniques for crafting prompts that effectively extract pertinent information from job descriptions, specifically for the position of 'Software Engineer - Computer Vision'. Additionally, we delved into methods to stabilize outputs and eliminate any inaccuracies or hallucinations. In subsequent assignments, we will leverage this extracted information to filter and evaluate resumes effectively."
      ],
      "metadata": {
        "id": "TYUHmY5YgEPk"
      }
    },
    {
      "cell_type": "code",
      "source": [],
      "metadata": {
        "id": "B_pWTzOAY6sP"
      },
      "execution_count": null,
      "outputs": []
    }
  ],
  "metadata": {
    "colab": {
      "provenance": []
    },
    "kernelspec": {
      "display_name": "Python 3",
      "name": "python3"
    },
    "language_info": {
      "name": "python"
    }
  },
  "nbformat": 4,
  "nbformat_minor": 0
}